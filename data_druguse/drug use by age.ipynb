{
 "cells": [
  {
   "cell_type": "code",
   "execution_count": 1,
   "id": "db10c4f4",
   "metadata": {
    "scrolled": true
   },
   "outputs": [
    {
     "data": {
      "text/html": [
       "<div>\n",
       "<style scoped>\n",
       "    .dataframe tbody tr th:only-of-type {\n",
       "        vertical-align: middle;\n",
       "    }\n",
       "\n",
       "    .dataframe tbody tr th {\n",
       "        vertical-align: top;\n",
       "    }\n",
       "\n",
       "    .dataframe thead th {\n",
       "        text-align: right;\n",
       "    }\n",
       "</style>\n",
       "<table border=\"1\" class=\"dataframe\">\n",
       "  <thead>\n",
       "    <tr style=\"text-align: right;\">\n",
       "      <th></th>\n",
       "      <th>age</th>\n",
       "      <th>n</th>\n",
       "      <th>alcohol-use</th>\n",
       "      <th>alcohol-frequency</th>\n",
       "      <th>marijuana-use</th>\n",
       "      <th>marijuana-frequency</th>\n",
       "      <th>cocaine-use</th>\n",
       "      <th>cocaine-frequency</th>\n",
       "      <th>crack-use</th>\n",
       "      <th>crack-frequency</th>\n",
       "      <th>...</th>\n",
       "      <th>oxycontin-use</th>\n",
       "      <th>oxycontin-frequency</th>\n",
       "      <th>tranquilizer-use</th>\n",
       "      <th>tranquilizer-frequency</th>\n",
       "      <th>stimulant-use</th>\n",
       "      <th>stimulant-frequency</th>\n",
       "      <th>meth-use</th>\n",
       "      <th>meth-frequency</th>\n",
       "      <th>sedative-use</th>\n",
       "      <th>sedative-frequency</th>\n",
       "    </tr>\n",
       "  </thead>\n",
       "  <tbody>\n",
       "    <tr>\n",
       "      <th>0</th>\n",
       "      <td>12</td>\n",
       "      <td>2798</td>\n",
       "      <td>3.9</td>\n",
       "      <td>3.0</td>\n",
       "      <td>1.1</td>\n",
       "      <td>4.0</td>\n",
       "      <td>0.1</td>\n",
       "      <td>5.0</td>\n",
       "      <td>0.0</td>\n",
       "      <td>-</td>\n",
       "      <td>...</td>\n",
       "      <td>0.1</td>\n",
       "      <td>24.5</td>\n",
       "      <td>0.2</td>\n",
       "      <td>52.0</td>\n",
       "      <td>0.2</td>\n",
       "      <td>2.0</td>\n",
       "      <td>0.0</td>\n",
       "      <td>-</td>\n",
       "      <td>0.2</td>\n",
       "      <td>13.0</td>\n",
       "    </tr>\n",
       "    <tr>\n",
       "      <th>1</th>\n",
       "      <td>13</td>\n",
       "      <td>2757</td>\n",
       "      <td>8.5</td>\n",
       "      <td>6.0</td>\n",
       "      <td>3.4</td>\n",
       "      <td>15.0</td>\n",
       "      <td>0.1</td>\n",
       "      <td>1.0</td>\n",
       "      <td>0.0</td>\n",
       "      <td>3.0</td>\n",
       "      <td>...</td>\n",
       "      <td>0.1</td>\n",
       "      <td>41.0</td>\n",
       "      <td>0.3</td>\n",
       "      <td>25.5</td>\n",
       "      <td>0.3</td>\n",
       "      <td>4.0</td>\n",
       "      <td>0.1</td>\n",
       "      <td>5.0</td>\n",
       "      <td>0.1</td>\n",
       "      <td>19.0</td>\n",
       "    </tr>\n",
       "    <tr>\n",
       "      <th>2</th>\n",
       "      <td>14</td>\n",
       "      <td>2792</td>\n",
       "      <td>18.1</td>\n",
       "      <td>5.0</td>\n",
       "      <td>8.7</td>\n",
       "      <td>24.0</td>\n",
       "      <td>0.1</td>\n",
       "      <td>5.5</td>\n",
       "      <td>0.0</td>\n",
       "      <td>-</td>\n",
       "      <td>...</td>\n",
       "      <td>0.4</td>\n",
       "      <td>4.5</td>\n",
       "      <td>0.9</td>\n",
       "      <td>5.0</td>\n",
       "      <td>0.8</td>\n",
       "      <td>12.0</td>\n",
       "      <td>0.1</td>\n",
       "      <td>24.0</td>\n",
       "      <td>0.2</td>\n",
       "      <td>16.5</td>\n",
       "    </tr>\n",
       "    <tr>\n",
       "      <th>3</th>\n",
       "      <td>15</td>\n",
       "      <td>2956</td>\n",
       "      <td>29.2</td>\n",
       "      <td>6.0</td>\n",
       "      <td>14.5</td>\n",
       "      <td>25.0</td>\n",
       "      <td>0.5</td>\n",
       "      <td>4.0</td>\n",
       "      <td>0.1</td>\n",
       "      <td>9.5</td>\n",
       "      <td>...</td>\n",
       "      <td>0.8</td>\n",
       "      <td>3.0</td>\n",
       "      <td>2.0</td>\n",
       "      <td>4.5</td>\n",
       "      <td>1.5</td>\n",
       "      <td>6.0</td>\n",
       "      <td>0.3</td>\n",
       "      <td>10.5</td>\n",
       "      <td>0.4</td>\n",
       "      <td>30.0</td>\n",
       "    </tr>\n",
       "    <tr>\n",
       "      <th>4</th>\n",
       "      <td>16</td>\n",
       "      <td>3058</td>\n",
       "      <td>40.1</td>\n",
       "      <td>10.0</td>\n",
       "      <td>22.5</td>\n",
       "      <td>30.0</td>\n",
       "      <td>1.0</td>\n",
       "      <td>7.0</td>\n",
       "      <td>0.0</td>\n",
       "      <td>1.0</td>\n",
       "      <td>...</td>\n",
       "      <td>1.1</td>\n",
       "      <td>4.0</td>\n",
       "      <td>2.4</td>\n",
       "      <td>11.0</td>\n",
       "      <td>1.8</td>\n",
       "      <td>9.5</td>\n",
       "      <td>0.3</td>\n",
       "      <td>36.0</td>\n",
       "      <td>0.2</td>\n",
       "      <td>3.0</td>\n",
       "    </tr>\n",
       "    <tr>\n",
       "      <th>5</th>\n",
       "      <td>17</td>\n",
       "      <td>3038</td>\n",
       "      <td>49.3</td>\n",
       "      <td>13.0</td>\n",
       "      <td>28.0</td>\n",
       "      <td>36.0</td>\n",
       "      <td>2.0</td>\n",
       "      <td>5.0</td>\n",
       "      <td>0.1</td>\n",
       "      <td>21.0</td>\n",
       "      <td>...</td>\n",
       "      <td>1.4</td>\n",
       "      <td>6.0</td>\n",
       "      <td>3.5</td>\n",
       "      <td>7.0</td>\n",
       "      <td>2.8</td>\n",
       "      <td>9.0</td>\n",
       "      <td>0.6</td>\n",
       "      <td>48.0</td>\n",
       "      <td>0.5</td>\n",
       "      <td>6.5</td>\n",
       "    </tr>\n",
       "    <tr>\n",
       "      <th>6</th>\n",
       "      <td>18</td>\n",
       "      <td>2469</td>\n",
       "      <td>58.7</td>\n",
       "      <td>24.0</td>\n",
       "      <td>33.7</td>\n",
       "      <td>52.0</td>\n",
       "      <td>3.2</td>\n",
       "      <td>5.0</td>\n",
       "      <td>0.4</td>\n",
       "      <td>10.0</td>\n",
       "      <td>...</td>\n",
       "      <td>1.7</td>\n",
       "      <td>7.0</td>\n",
       "      <td>4.9</td>\n",
       "      <td>12.0</td>\n",
       "      <td>3.0</td>\n",
       "      <td>8.0</td>\n",
       "      <td>0.5</td>\n",
       "      <td>12.0</td>\n",
       "      <td>0.4</td>\n",
       "      <td>10.0</td>\n",
       "    </tr>\n",
       "    <tr>\n",
       "      <th>7</th>\n",
       "      <td>19</td>\n",
       "      <td>2223</td>\n",
       "      <td>64.6</td>\n",
       "      <td>36.0</td>\n",
       "      <td>33.4</td>\n",
       "      <td>60.0</td>\n",
       "      <td>4.1</td>\n",
       "      <td>5.5</td>\n",
       "      <td>0.5</td>\n",
       "      <td>2.0</td>\n",
       "      <td>...</td>\n",
       "      <td>1.5</td>\n",
       "      <td>7.5</td>\n",
       "      <td>4.2</td>\n",
       "      <td>4.5</td>\n",
       "      <td>3.3</td>\n",
       "      <td>6.0</td>\n",
       "      <td>0.4</td>\n",
       "      <td>105.0</td>\n",
       "      <td>0.3</td>\n",
       "      <td>6.0</td>\n",
       "    </tr>\n",
       "    <tr>\n",
       "      <th>8</th>\n",
       "      <td>20</td>\n",
       "      <td>2271</td>\n",
       "      <td>69.7</td>\n",
       "      <td>48.0</td>\n",
       "      <td>34.0</td>\n",
       "      <td>60.0</td>\n",
       "      <td>4.9</td>\n",
       "      <td>8.0</td>\n",
       "      <td>0.6</td>\n",
       "      <td>5.0</td>\n",
       "      <td>...</td>\n",
       "      <td>1.7</td>\n",
       "      <td>12.0</td>\n",
       "      <td>5.4</td>\n",
       "      <td>10.0</td>\n",
       "      <td>4.0</td>\n",
       "      <td>12.0</td>\n",
       "      <td>0.9</td>\n",
       "      <td>12.0</td>\n",
       "      <td>0.5</td>\n",
       "      <td>4.0</td>\n",
       "    </tr>\n",
       "    <tr>\n",
       "      <th>9</th>\n",
       "      <td>21</td>\n",
       "      <td>2354</td>\n",
       "      <td>83.2</td>\n",
       "      <td>52.0</td>\n",
       "      <td>33.0</td>\n",
       "      <td>52.0</td>\n",
       "      <td>4.8</td>\n",
       "      <td>5.0</td>\n",
       "      <td>0.5</td>\n",
       "      <td>17.0</td>\n",
       "      <td>...</td>\n",
       "      <td>1.3</td>\n",
       "      <td>13.5</td>\n",
       "      <td>3.9</td>\n",
       "      <td>7.0</td>\n",
       "      <td>4.1</td>\n",
       "      <td>10.0</td>\n",
       "      <td>0.6</td>\n",
       "      <td>2.0</td>\n",
       "      <td>0.3</td>\n",
       "      <td>9.0</td>\n",
       "    </tr>\n",
       "    <tr>\n",
       "      <th>10</th>\n",
       "      <td>22-23</td>\n",
       "      <td>4707</td>\n",
       "      <td>84.2</td>\n",
       "      <td>52.0</td>\n",
       "      <td>28.4</td>\n",
       "      <td>52.0</td>\n",
       "      <td>4.5</td>\n",
       "      <td>5.0</td>\n",
       "      <td>0.5</td>\n",
       "      <td>5.0</td>\n",
       "      <td>...</td>\n",
       "      <td>1.7</td>\n",
       "      <td>17.5</td>\n",
       "      <td>4.4</td>\n",
       "      <td>12.0</td>\n",
       "      <td>3.6</td>\n",
       "      <td>10.0</td>\n",
       "      <td>0.6</td>\n",
       "      <td>46.0</td>\n",
       "      <td>0.2</td>\n",
       "      <td>52.0</td>\n",
       "    </tr>\n",
       "    <tr>\n",
       "      <th>11</th>\n",
       "      <td>24-25</td>\n",
       "      <td>4591</td>\n",
       "      <td>83.1</td>\n",
       "      <td>52.0</td>\n",
       "      <td>24.9</td>\n",
       "      <td>60.0</td>\n",
       "      <td>4.0</td>\n",
       "      <td>6.0</td>\n",
       "      <td>0.5</td>\n",
       "      <td>6.0</td>\n",
       "      <td>...</td>\n",
       "      <td>1.3</td>\n",
       "      <td>20.0</td>\n",
       "      <td>4.3</td>\n",
       "      <td>10.0</td>\n",
       "      <td>2.6</td>\n",
       "      <td>10.0</td>\n",
       "      <td>0.7</td>\n",
       "      <td>21.0</td>\n",
       "      <td>0.2</td>\n",
       "      <td>17.5</td>\n",
       "    </tr>\n",
       "    <tr>\n",
       "      <th>12</th>\n",
       "      <td>26-29</td>\n",
       "      <td>2628</td>\n",
       "      <td>80.7</td>\n",
       "      <td>52.0</td>\n",
       "      <td>20.8</td>\n",
       "      <td>52.0</td>\n",
       "      <td>3.2</td>\n",
       "      <td>5.0</td>\n",
       "      <td>0.4</td>\n",
       "      <td>6.0</td>\n",
       "      <td>...</td>\n",
       "      <td>1.2</td>\n",
       "      <td>13.5</td>\n",
       "      <td>4.2</td>\n",
       "      <td>10.0</td>\n",
       "      <td>2.3</td>\n",
       "      <td>7.0</td>\n",
       "      <td>0.6</td>\n",
       "      <td>30.0</td>\n",
       "      <td>0.4</td>\n",
       "      <td>4.0</td>\n",
       "    </tr>\n",
       "    <tr>\n",
       "      <th>13</th>\n",
       "      <td>30-34</td>\n",
       "      <td>2864</td>\n",
       "      <td>77.5</td>\n",
       "      <td>52.0</td>\n",
       "      <td>16.4</td>\n",
       "      <td>72.0</td>\n",
       "      <td>2.1</td>\n",
       "      <td>8.0</td>\n",
       "      <td>0.5</td>\n",
       "      <td>15.0</td>\n",
       "      <td>...</td>\n",
       "      <td>0.9</td>\n",
       "      <td>46.0</td>\n",
       "      <td>3.6</td>\n",
       "      <td>8.0</td>\n",
       "      <td>1.4</td>\n",
       "      <td>12.0</td>\n",
       "      <td>0.4</td>\n",
       "      <td>54.0</td>\n",
       "      <td>0.4</td>\n",
       "      <td>10.0</td>\n",
       "    </tr>\n",
       "    <tr>\n",
       "      <th>14</th>\n",
       "      <td>35-49</td>\n",
       "      <td>7391</td>\n",
       "      <td>75.0</td>\n",
       "      <td>52.0</td>\n",
       "      <td>10.4</td>\n",
       "      <td>48.0</td>\n",
       "      <td>1.5</td>\n",
       "      <td>15.0</td>\n",
       "      <td>0.5</td>\n",
       "      <td>48.0</td>\n",
       "      <td>...</td>\n",
       "      <td>0.3</td>\n",
       "      <td>12.0</td>\n",
       "      <td>1.9</td>\n",
       "      <td>6.0</td>\n",
       "      <td>0.6</td>\n",
       "      <td>24.0</td>\n",
       "      <td>0.2</td>\n",
       "      <td>104.0</td>\n",
       "      <td>0.3</td>\n",
       "      <td>10.0</td>\n",
       "    </tr>\n",
       "    <tr>\n",
       "      <th>15</th>\n",
       "      <td>50-64</td>\n",
       "      <td>3923</td>\n",
       "      <td>67.2</td>\n",
       "      <td>52.0</td>\n",
       "      <td>7.3</td>\n",
       "      <td>52.0</td>\n",
       "      <td>0.9</td>\n",
       "      <td>36.0</td>\n",
       "      <td>0.4</td>\n",
       "      <td>62.0</td>\n",
       "      <td>...</td>\n",
       "      <td>0.4</td>\n",
       "      <td>5.0</td>\n",
       "      <td>1.4</td>\n",
       "      <td>10.0</td>\n",
       "      <td>0.3</td>\n",
       "      <td>24.0</td>\n",
       "      <td>0.2</td>\n",
       "      <td>30.0</td>\n",
       "      <td>0.2</td>\n",
       "      <td>104.0</td>\n",
       "    </tr>\n",
       "    <tr>\n",
       "      <th>16</th>\n",
       "      <td>65+</td>\n",
       "      <td>2448</td>\n",
       "      <td>49.3</td>\n",
       "      <td>52.0</td>\n",
       "      <td>1.2</td>\n",
       "      <td>36.0</td>\n",
       "      <td>0.0</td>\n",
       "      <td>-</td>\n",
       "      <td>0.0</td>\n",
       "      <td>-</td>\n",
       "      <td>...</td>\n",
       "      <td>0.0</td>\n",
       "      <td>-</td>\n",
       "      <td>0.2</td>\n",
       "      <td>5.0</td>\n",
       "      <td>0.0</td>\n",
       "      <td>364.0</td>\n",
       "      <td>0.0</td>\n",
       "      <td>-</td>\n",
       "      <td>0.0</td>\n",
       "      <td>15.0</td>\n",
       "    </tr>\n",
       "  </tbody>\n",
       "</table>\n",
       "<p>17 rows × 28 columns</p>\n",
       "</div>"
      ],
      "text/plain": [
       "      age     n  alcohol-use  alcohol-frequency  marijuana-use  \\\n",
       "0      12  2798          3.9                3.0            1.1   \n",
       "1      13  2757          8.5                6.0            3.4   \n",
       "2      14  2792         18.1                5.0            8.7   \n",
       "3      15  2956         29.2                6.0           14.5   \n",
       "4      16  3058         40.1               10.0           22.5   \n",
       "5      17  3038         49.3               13.0           28.0   \n",
       "6      18  2469         58.7               24.0           33.7   \n",
       "7      19  2223         64.6               36.0           33.4   \n",
       "8      20  2271         69.7               48.0           34.0   \n",
       "9      21  2354         83.2               52.0           33.0   \n",
       "10  22-23  4707         84.2               52.0           28.4   \n",
       "11  24-25  4591         83.1               52.0           24.9   \n",
       "12  26-29  2628         80.7               52.0           20.8   \n",
       "13  30-34  2864         77.5               52.0           16.4   \n",
       "14  35-49  7391         75.0               52.0           10.4   \n",
       "15  50-64  3923         67.2               52.0            7.3   \n",
       "16    65+  2448         49.3               52.0            1.2   \n",
       "\n",
       "    marijuana-frequency  cocaine-use cocaine-frequency  crack-use  \\\n",
       "0                   4.0          0.1               5.0        0.0   \n",
       "1                  15.0          0.1               1.0        0.0   \n",
       "2                  24.0          0.1               5.5        0.0   \n",
       "3                  25.0          0.5               4.0        0.1   \n",
       "4                  30.0          1.0               7.0        0.0   \n",
       "5                  36.0          2.0               5.0        0.1   \n",
       "6                  52.0          3.2               5.0        0.4   \n",
       "7                  60.0          4.1               5.5        0.5   \n",
       "8                  60.0          4.9               8.0        0.6   \n",
       "9                  52.0          4.8               5.0        0.5   \n",
       "10                 52.0          4.5               5.0        0.5   \n",
       "11                 60.0          4.0               6.0        0.5   \n",
       "12                 52.0          3.2               5.0        0.4   \n",
       "13                 72.0          2.1               8.0        0.5   \n",
       "14                 48.0          1.5              15.0        0.5   \n",
       "15                 52.0          0.9              36.0        0.4   \n",
       "16                 36.0          0.0                 -        0.0   \n",
       "\n",
       "   crack-frequency  ...  oxycontin-use oxycontin-frequency  tranquilizer-use  \\\n",
       "0                -  ...            0.1                24.5               0.2   \n",
       "1              3.0  ...            0.1                41.0               0.3   \n",
       "2                -  ...            0.4                 4.5               0.9   \n",
       "3              9.5  ...            0.8                 3.0               2.0   \n",
       "4              1.0  ...            1.1                 4.0               2.4   \n",
       "5             21.0  ...            1.4                 6.0               3.5   \n",
       "6             10.0  ...            1.7                 7.0               4.9   \n",
       "7              2.0  ...            1.5                 7.5               4.2   \n",
       "8              5.0  ...            1.7                12.0               5.4   \n",
       "9             17.0  ...            1.3                13.5               3.9   \n",
       "10             5.0  ...            1.7                17.5               4.4   \n",
       "11             6.0  ...            1.3                20.0               4.3   \n",
       "12             6.0  ...            1.2                13.5               4.2   \n",
       "13            15.0  ...            0.9                46.0               3.6   \n",
       "14            48.0  ...            0.3                12.0               1.9   \n",
       "15            62.0  ...            0.4                 5.0               1.4   \n",
       "16               -  ...            0.0                   -               0.2   \n",
       "\n",
       "    tranquilizer-frequency  stimulant-use stimulant-frequency  meth-use  \\\n",
       "0                     52.0            0.2                 2.0       0.0   \n",
       "1                     25.5            0.3                 4.0       0.1   \n",
       "2                      5.0            0.8                12.0       0.1   \n",
       "3                      4.5            1.5                 6.0       0.3   \n",
       "4                     11.0            1.8                 9.5       0.3   \n",
       "5                      7.0            2.8                 9.0       0.6   \n",
       "6                     12.0            3.0                 8.0       0.5   \n",
       "7                      4.5            3.3                 6.0       0.4   \n",
       "8                     10.0            4.0                12.0       0.9   \n",
       "9                      7.0            4.1                10.0       0.6   \n",
       "10                    12.0            3.6                10.0       0.6   \n",
       "11                    10.0            2.6                10.0       0.7   \n",
       "12                    10.0            2.3                 7.0       0.6   \n",
       "13                     8.0            1.4                12.0       0.4   \n",
       "14                     6.0            0.6                24.0       0.2   \n",
       "15                    10.0            0.3                24.0       0.2   \n",
       "16                     5.0            0.0               364.0       0.0   \n",
       "\n",
       "    meth-frequency  sedative-use sedative-frequency  \n",
       "0                -           0.2               13.0  \n",
       "1              5.0           0.1               19.0  \n",
       "2             24.0           0.2               16.5  \n",
       "3             10.5           0.4               30.0  \n",
       "4             36.0           0.2                3.0  \n",
       "5             48.0           0.5                6.5  \n",
       "6             12.0           0.4               10.0  \n",
       "7            105.0           0.3                6.0  \n",
       "8             12.0           0.5                4.0  \n",
       "9              2.0           0.3                9.0  \n",
       "10            46.0           0.2               52.0  \n",
       "11            21.0           0.2               17.5  \n",
       "12            30.0           0.4                4.0  \n",
       "13            54.0           0.4               10.0  \n",
       "14           104.0           0.3               10.0  \n",
       "15            30.0           0.2              104.0  \n",
       "16               -           0.0               15.0  \n",
       "\n",
       "[17 rows x 28 columns]"
      ]
     },
     "execution_count": 1,
     "metadata": {},
     "output_type": "execute_result"
    }
   ],
   "source": [
    "import pandas as pd\n",
    "import numpy as np\n",
    "import matplotlib.pyplot as plt\n",
    "import seaborn as sns\n",
    "# pd.options.display.max_columns = None\n",
    "# pd.options.display.max_rows = None\n",
    "\n",
    "drug_use = pd.read_csv(\"drug-use-by-age.csv\")\n",
    "# shows top 10 rows\n",
    "drug_use\n",
    "# do something"
   ]
  },
  {
   "cell_type": "code",
   "execution_count": 2,
   "id": "596bceb1",
   "metadata": {},
   "outputs": [],
   "source": [
    "#step 2: we want to out line wuestions we will be addressing though our data analysis\n"
   ]
  },
  {
   "cell_type": "markdown",
   "id": "c0df040c",
   "metadata": {},
   "source": [
    "# 1. If a drug has a higher frequency and / or usage rate, does that affect the age at which people start using it? "
   ]
  },
  {
   "cell_type": "code",
   "execution_count": 20,
   "id": "9e885259",
   "metadata": {},
   "outputs": [
    {
     "name": "stdout",
     "output_type": "stream",
     "text": [
      "<class 'pandas.core.frame.DataFrame'>\n",
      "RangeIndex: 17 entries, 0 to 16\n",
      "Data columns (total 28 columns):\n",
      " #   Column                   Non-Null Count  Dtype  \n",
      "---  ------                   --------------  -----  \n",
      " 0   age                      17 non-null     object \n",
      " 1   n                        17 non-null     int64  \n",
      " 2   alcohol-use              17 non-null     float64\n",
      " 3   alcohol-frequency        17 non-null     float64\n",
      " 4   marijuana-use            17 non-null     float64\n",
      " 5   marijuana-frequency      17 non-null     float64\n",
      " 6   cocaine-use              17 non-null     float64\n",
      " 7   cocaine-frequency        17 non-null     object \n",
      " 8   crack-use                17 non-null     float64\n",
      " 9   crack-frequency          17 non-null     object \n",
      " 10  heroin-use               17 non-null     float64\n",
      " 11  heroin-frequency         17 non-null     object \n",
      " 12  hallucinogen-use         17 non-null     float64\n",
      " 13  hallucinogen-frequency   17 non-null     float64\n",
      " 14  inhalant-use             17 non-null     float64\n",
      " 15  inhalant-frequency       17 non-null     object \n",
      " 16  pain-releiver-use        17 non-null     float64\n",
      " 17  pain-releiver-frequency  17 non-null     float64\n",
      " 18  oxycontin-use            17 non-null     float64\n",
      " 19  oxycontin-frequency      17 non-null     object \n",
      " 20  tranquilizer-use         17 non-null     float64\n",
      " 21  tranquilizer-frequency   17 non-null     float64\n",
      " 22  stimulant-use            17 non-null     float64\n",
      " 23  stimulant-frequency      17 non-null     float64\n",
      " 24  meth-use                 17 non-null     float64\n",
      " 25  meth-frequency           17 non-null     object \n",
      " 26  sedative-use             17 non-null     float64\n",
      " 27  sedative-frequency       17 non-null     float64\n",
      "dtypes: float64(20), int64(1), object(7)\n",
      "memory usage: 3.8+ KB\n"
     ]
    }
   ],
   "source": [
    "drug_use.info()"
   ]
  },
  {
   "cell_type": "code",
   "execution_count": 3,
   "id": "d106f257",
   "metadata": {},
   "outputs": [
    {
     "data": {
      "image/png": "[encoded data removed]",
      "text/plain": [
       "<Figure size 432x288 with 1 Axes>"
      ]
     },
     "metadata": {
      "needs_background": "light"
     },
     "output_type": "display_data"
    }
   ],
   "source": [
    "drug_use.plot(x= 'age', y=[\"heroin-use\",\"sedative-use\",])\n",
    "plt.show()"
   ]
  },
  {
   "cell_type": "code",
   "execution_count": 21,
   "id": "403e7326",
   "metadata": {},
   "outputs": [
    {
     "data": {
      "image/png": "[encoded data removed]",
      "text/plain": [
       "<Figure size 432x288 with 1 Axes>"
      ]
     },
     "metadata": {
      "needs_background": "light"
     },
     "output_type": "display_data"
    }
   ],
   "source": [
    "drug_use.plot(x= 'age', y=[\"heroin-use\",\"sedative-use\",\"cocaine-use\",\"crack-use\",\"hallucinogen-use\",\"inhalant-use\",\"pain-releiver-use\",\"oxycontin-use\",\"tranquilizer-use\",\"stimulant-use\",\"meth-use\"])\n",
    "plt.show()"
   ]
  },
  {
   "cell_type": "code",
   "execution_count": 4,
   "id": "a6c3c7d4",
   "metadata": {},
   "outputs": [],
   "source": [
    "# plt.figure(figsize= (16,6))\n",
    "# sns.lineplot(x=\"age\", y = \"n\",data = Data)"
   ]
  },
  {
   "cell_type": "code",
   "execution_count": 5,
   "id": "a5d9c127",
   "metadata": {},
   "outputs": [],
   "source": [
    "# Data = drug_use.replace('-',0)\n",
    "# Data"
   ]
  },
  {
   "cell_type": "code",
   "execution_count": 6,
   "id": "52d40406",
   "metadata": {
    "scrolled": true
   },
   "outputs": [],
   "source": [
    "drug_use.plot(x=\"age\", y=[\"alcohol-frequency\", \"marijuana-frequency\", \"cocaine-frequency\",\"crack-frequency\",\"heroin-frequency\",\"hallucinogen-frequency\",\"inhalant-frequency\",\"pain-releiver-frequency\",\"tranquilizer-frequency\", \"stimulant-frequency\",\"meth-frequency\",\"sedative-frequency\",])\n",
    "plt.show()"
   ]
  },
  {
   "cell_type": "code",
   "execution_count": 7,
   "id": "e6b50b04",
   "metadata": {},
   "outputs": [],
   "source": [
    "# drugs_names = [i.split('-')[0] for i in drug_use.columns.to_list()[3:28:2]]\n",
    "# full_drugs_names = drug_use.columns.to_list()[3:28:2]\n",
    "\n",
    "# col = []\n",
    "# for i in drugs_names:\n",
    "#   for j in range(17):\n",
    "#     col.append(i)\n",
    "\n",
    "# data = pd.DataFrame(columns=['drug_use'], data = col)\n",
    "\n",
    "# values = np.array(0)\n",
    "\n",
    "# for i in full_drugs_names:\n",
    "#   values = np.append(values,drug_use[i].to_list())\n",
    "\n",
    "# values = values[1:]\n",
    "\n",
    "# data['values'] = values\n",
    "# data"
   ]
  },
  {
   "cell_type": "code",
   "execution_count": 8,
   "id": "6a20b9d0",
   "metadata": {},
   "outputs": [],
   "source": [
    "# ax = sns.boxplot(x = 'values', y = 'drug_use', data = data, orient='h')\n",
    "# ax.figure.set_size_inches(18,10)\n",
    "# ax.set_xlabel('Frequency', fontsize=14)\n",
    "# ax.set_ylabel('drug_use', fontsize=14)\n",
    "# ax"
   ]
  },
  {
   "cell_type": "markdown",
   "id": "d18614d0",
   "metadata": {},
   "source": [
    "# 2. If people between  35- 65 have a higher rate of hard drug use / frequency of said drugs.\n",
    "-heroin\n",
    "-crack\n",
    "-alcohol\n",
    "-pain relivers\n",
    "-oxy\n",
    "-meth\n"
   ]
  },
  {
   "cell_type": "markdown",
   "id": "ce8be48a",
   "metadata": {},
   "source": [
    "# 3. Declining / increse use of drugs in older generations 35-65+\n"
   ]
  },
  {
   "cell_type": "markdown",
   "id": "dfe08fc0",
   "metadata": {},
   "source": [
    "# 4. Is Oxycodone still used mainly by 40-65+ or by 20-30-year-olds\n",
    "\n"
   ]
  },
  {
   "cell_type": "markdown",
   "id": "02c27ac3",
   "metadata": {},
   "source": [
    "# 5. Does early use of alcohol lead to cocaine use from the 13 - 25 age group\n"
   ]
  },
  {
   "cell_type": "markdown",
   "id": "810bcf7c",
   "metadata": {},
   "source": [
    "# 6. Do meth and heroin uses have a drop the rate due to deaths\n",
    "\n"
   ]
  },
  {
   "cell_type": "markdown",
   "id": "773140a4",
   "metadata": {},
   "source": [
    "# 7. How frequently are prescription drugs being used by 13-20-year-olds\n",
    "\n"
   ]
  },
  {
   "cell_type": "markdown",
   "id": "b6e044fb",
   "metadata": {},
   "source": [
    "# 8. Does age affect what drugs are more common in a specific age range\n",
    "\n"
   ]
  },
  {
   "cell_type": "markdown",
   "id": "1ab3d20e",
   "metadata": {},
   "source": [
    "# 9. Can we predict use of youth to elderly in alcohol \n"
   ]
  },
  {
   "cell_type": "markdown",
   "id": "f3540810",
   "metadata": {},
   "source": [
    "# 10. does drug uses stop due to overdose or less frequent due to fewer uses\n"
   ]
  },
  {
   "cell_type": "markdown",
   "id": "e4836a23",
   "metadata": {},
   "source": [
    "[my link](https://www.kaggle.com/datasets/tunguz/drug-use-by-age)"
   ]
  },
  {
   "cell_type": "code",
   "execution_count": 9,
   "id": "227192b9",
   "metadata": {},
   "outputs": [
    {
     "data": {
      "text/plain": [
       "(17, 28)"
      ]
     },
     "execution_count": 9,
     "metadata": {},
     "output_type": "execute_result"
    }
   ],
   "source": [
    "drug_use.shape"
   ]
  },
  {
   "cell_type": "code",
   "execution_count": 11,
   "id": "fd5d24e3",
   "metadata": {},
   "outputs": [],
   "source": [
    "# drug_use.describe()"
   ]
  },
  {
   "cell_type": "code",
   "execution_count": 12,
   "id": "00f227e1",
   "metadata": {},
   "outputs": [],
   "source": [
    "# drug_use['heroin-use'].describe()"
   ]
  },
  {
   "cell_type": "code",
   "execution_count": 13,
   "id": "79b57a79",
   "metadata": {},
   "outputs": [],
   "source": [
    "# drug_use['alcohol-use'].mean()"
   ]
  },
  {
   "cell_type": "code",
   "execution_count": 14,
   "id": "8f515965",
   "metadata": {},
   "outputs": [],
   "source": [
    "# drug_use['alcohol-use'].median()"
   ]
  },
  {
   "cell_type": "code",
   "execution_count": 16,
   "id": "d06a43e9",
   "metadata": {},
   "outputs": [
    {
     "data": {
      "text/plain": [
       "<AxesSubplot:>"
      ]
     },
     "execution_count": 16,
     "metadata": {},
     "output_type": "execute_result"
    },
    {
     "data": {
      "image/png": "[encoded data removed]",
      "text/plain": [
       "<Figure size 1008x432 with 1 Axes>"
      ]
     },
     "metadata": {
      "needs_background": "light"
     },
     "output_type": "display_data"
    }
   ],
   "source": [
    "drug_use['oxycontin-use'].plot(kind='box', vert=True, figsize=(14,6))\n",
    "# drug_use['inhalant-use'].plot(kind='box', vert=True, figsize=(14,6))\n",
    "# drug_use['stimulant-use'].plot(kind='box', vert=True, figsize=(14,6))\n",
    "# drug_use['sedative-use'].plot(kind='box', vert=True, figsize=(14,6))\n",
    "# drug_use['pain-releiver-use'].plot(kind='box', vert=True, figsize=(14,6))\n"
   ]
  },
  {
   "cell_type": "code",
   "execution_count": null,
   "id": "2c825ad5",
   "metadata": {},
   "outputs": [],
   "source": [
    "drug_use['alcohol-use'].plot(kind='density',  figsize=(14,6))\n",
    "drug_use['marijuana-use'].plot(kind='density',  figsize=(14,6))"
   ]
  },
  {
   "cell_type": "code",
   "execution_count": 19,
   "id": "51efd061",
   "metadata": {},
   "outputs": [
    {
     "data": {
      "text/plain": [
       "oxycontin-use           AxesSubplot(0.125,0.536818;0.227941x0.343182)\n",
       "inhalant-use         AxesSubplot(0.398529,0.536818;0.227941x0.343182)\n",
       "stimulant-use        AxesSubplot(0.672059,0.536818;0.227941x0.343182)\n",
       "sedative-use               AxesSubplot(0.125,0.125;0.227941x0.343182)\n",
       "pain-releiver-use       AxesSubplot(0.398529,0.125;0.227941x0.343182)\n",
       "dtype: object"
      ]
     },
     "execution_count": 19,
     "metadata": {},
     "output_type": "execute_result"
    },
    {
     "data": {
      "image/png": "[encoded data removed]",
      "text/plain": [
       "<Figure size 1008x576 with 6 Axes>"
      ]
     },
     "metadata": {
      "needs_background": "light"
     },
     "output_type": "display_data"
    }
   ],
   "source": [
    "boxplot_cols = ['oxycontin-use', 'inhalant-use','stimulant-use', 'sedative-use', 'pain-releiver-use']\n",
    "drug_use[boxplot_cols].plot(kind='box', subplots = True, layout=(2,3), figsize=(14,8))"
   ]
  },
  {
   "cell_type": "code",
   "execution_count": null,
   "id": "2845e2e6",
   "metadata": {},
   "outputs": [],
   "source": [
    "# ax = drug_use['alcohol-use'].plot(kind='density',  figsize=(14,6))\n",
    "# ax.axvline(drug_use['alcohol-use'].mean(),color='red')\n",
    "# ax.axvline(drug_use['alcohol-use'].median(),color='green')"
   ]
  },
  {
   "cell_type": "code",
   "execution_count": null,
   "id": "fd5c20ce",
   "metadata": {},
   "outputs": [],
   "source": [
    "# ax = drug_use['alcohol-use'].plot(kind=\"hist\", figsize=(14,6))\n",
    "# ax.set_ylabel('alcohol-use')\n",
    "# ax.set_xlabel('alcohol-frequency')"
   ]
  },
  {
   "cell_type": "code",
   "execution_count": null,
   "id": "2874d73e",
   "metadata": {},
   "outputs": [],
   "source": [
    "# drug_use['age'].value_counts()"
   ]
  },
  {
   "cell_type": "code",
   "execution_count": null,
   "id": "4f65f140",
   "metadata": {},
   "outputs": [],
   "source": [
    "drug_use.plot(kind='scatter', x = 'age', y='cocaine-use', figsize=(10,5))\n",
    "drug_use.plot(kind='scatter', x = 'age', y='alcohol-use', figsize=(10,5))"
   ]
  },
  {
   "cell_type": "code",
   "execution_count": null,
   "id": "ad6dd648",
   "metadata": {},
   "outputs": [],
   "source": [
    "ax = drug_use['heroin-use'].plot(kind='density', x = 'age', y='cocaine-use', figsize=(14,6))\n",
    "drug_use['meth-use'].plot(kind='density',  figsize=(14,6))\n",
    "drug_use['heroin-use'].plot(kind='density',  figsize=(14,6))\n",
    "ax.axvline(drug_use['meth-use'].mean(),color='red')\n",
    "ax.axvline(drug_use['heroin-use'].median(),color='green')\n",
    "ax.set_ylabel('age')\n",
    "ax.set_xlabel('meth/heroin')"
   ]
  },
  {
   "cell_type": "code",
   "execution_count": null,
   "id": "7fc07bc4",
   "metadata": {},
   "outputs": [],
   "source": [
    "drug_use.plot(x= 'age', y=[\"heroin-use\",\"meth-use\",\"crack-use\",],)\n",
    "plt.show()"
   ]
  },
  {
   "cell_type": "code",
   "execution_count": null,
   "id": "1536956d",
   "metadata": {},
   "outputs": [],
   "source": []
  }
 ],
 "metadata": {
  "kernelspec": {
   "display_name": "Python 3 (ipykernel)",
   "language": "python",
   "name": "python3"
  },
  "language_info": {
   "codemirror_mode": {
    "name": "ipython",
    "version": 3
   },
   "file_extension": ".py",
   "mimetype": "text/x-python",
   "name": "python",
   "nbconvert_exporter": "python",
   "pygments_lexer": "ipython3",
   "version": "3.10.4"
  }
 },
 "nbformat": 4,
 "nbformat_minor": 5
}
